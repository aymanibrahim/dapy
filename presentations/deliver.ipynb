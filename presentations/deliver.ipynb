{
 "cells": [
  {
   "cell_type": "markdown",
   "metadata": {
    "slideshow": {
     "slide_type": "slide"
    }
   },
   "source": [
    "# Data Analysis with Python Workshop \n",
    "\n",
    "# [github.com/aymanibrahim/dapy](https://github.com/aymanibrahim/dapy)"
   ]
  },
  {
   "cell_type": "markdown",
   "metadata": {
    "slideshow": {
     "slide_type": "slide"
    }
   },
   "source": [
    "# Data Analysis with Python Workshop \n",
    "\n",
    "### Ayman Ibrahim\n",
    "[GitHub](https://github.com/aymanibrahim) [LinkedIn](https://www.linkedin.com/in/aymanibrahim/) [Kaggle](https://www.kaggle.com/aymani) [Twitter](https://twitter.com/AymanIbrahim) [Facebook](https://www.facebook.com/ayman.ibrahim.awad)"
   ]
  },
  {
   "cell_type": "markdown",
   "metadata": {
    "slideshow": {
     "slide_type": "slide"
    }
   },
   "source": [
    "# Why\n",
    "> For people who struggle to start in data analysis with Python"
   ]
  },
  {
   "cell_type": "markdown",
   "metadata": {
    "slideshow": {
     "slide_type": "slide"
    }
   },
   "source": [
    "# Description\n",
    "This hands-on in-person workshop is based on [Data Analysis with Python Course by IBM Cognitive Class](https://cognitiveclass.ai/courses/data-analysis-python/)\n",
    "\n",
    ">Learn how to analyze data using multi-dimensional arrays in NumPy and manipulate DataFrames in pandas using Jupyter-based environment."
   ]
  },
  {
   "cell_type": "markdown",
   "metadata": {
    "slideshow": {
     "slide_type": "slide"
    }
   },
   "source": [
    "# Outline"
   ]
  },
  {
   "cell_type": "markdown",
   "metadata": {
    "slideshow": {
     "slide_type": "slide"
    }
   },
   "source": [
    "# 01 Intro\n",
    "\n",
    "- Understanding the Domain\n",
    "- Understanding the Dataset\n",
    "- Python package for data science\n",
    "- Importing and Exporting Data in Python\n",
    "- Basic Insights from Datasets"
   ]
  },
  {
   "cell_type": "markdown",
   "metadata": {
    "slideshow": {
     "slide_type": "slide"
    }
   },
   "source": [
    "# 02 Data Wrangling\n",
    "\n",
    "- Identify and Handle Missing Values\n",
    "- Data Formatting\n",
    "- Data Normalization \n",
    "- Binning\n",
    "- Indicator variables"
   ]
  },
  {
   "cell_type": "markdown",
   "metadata": {
    "slideshow": {
     "slide_type": "slide"
    }
   },
   "source": [
    "# 03 EDA\n",
    "\n",
    "- Descriptive Statistics\n",
    "- Basics of Grouping\n",
    "- ANOVA\n",
    "- Correlation"
   ]
  },
  {
   "cell_type": "markdown",
   "metadata": {
    "slideshow": {
     "slide_type": "slide"
    }
   },
   "source": [
    "# 04 Model Development\n",
    "\n",
    "- Simple and Multiple Linear Regression\n",
    "- Model Evaluation Using Visualization\n",
    "- Polynomial Regression and Pipelines\n",
    "- R-squared and MSE for In-Sample Evaluation\n",
    "- Prediction and Decision Making"
   ]
  },
  {
   "cell_type": "markdown",
   "metadata": {
    "slideshow": {
     "slide_type": "slide"
    }
   },
   "source": [
    "# 05 Model Evaluation\n",
    "\n",
    "- Model Evaluation\n",
    "- Over-fitting, Under-fitting and Model Selection\n",
    "- Ridge Regression\n",
    "- Grid Search"
   ]
  },
  {
   "cell_type": "markdown",
   "metadata": {
    "slideshow": {
     "slide_type": "slide"
    }
   },
   "source": [
    "# Pre-workshop\n",
    "You will need a laptop that can access the internet"
   ]
  },
  {
   "cell_type": "markdown",
   "metadata": {
    "slideshow": {
     "slide_type": "slide"
    }
   },
   "source": [
    "# 1: Installation\n",
    "[Install Python using Miniconda](https://conda.io/projects/conda/en/latest/user-guide/install/index.html)\n",
    "\n",
    "OR [Install Python using Ananconda](https://www.anaconda.com/distribution/)"
   ]
  },
  {
   "cell_type": "markdown",
   "metadata": {
    "slideshow": {
     "slide_type": "slide"
    }
   },
   "source": [
    "# 2: Setup\n",
    "### 2.1: Download workshop code & materials\n",
    "Clone the repository\n",
    "```\n",
    "git clone git@github.com:aymanibrahim/dapy.git\n",
    "```\n",
    "OR [Download the repository as a .zip file](https://github.com/aymanibrahim/dapy/archive/master.zip)"
   ]
  },
  {
   "cell_type": "markdown",
   "metadata": {
    "slideshow": {
     "slide_type": "slide"
    }
   },
   "source": [
    "### 2.2: Change directory to dapy\n",
    "Change current directory to **dapy** directory\n",
    "```\n",
    "cd dapy\n",
    "```"
   ]
  },
  {
   "cell_type": "markdown",
   "metadata": {
    "slideshow": {
     "slide_type": "slide"
    }
   },
   "source": [
    "### 2.3: Install Python with required packages\n",
    "Install Python with the required packages into an environment named _dapy_  as per [environment.yml](https://github.com/aymanibrahim/dapy/blob/master/environment.yml) YAML file.\n",
    "```\n",
    "conda env create -f environment.yml\n",
    "```\n",
    "When conda asks if you want to proceed, type \"y\" and press Enter.\n"
   ]
  },
  {
   "cell_type": "markdown",
   "metadata": {
    "slideshow": {
     "slide_type": "slide"
    }
   },
   "source": [
    "## 3: Activate environment\n",
    "Change the current default environment (_base_) into _dapy_ environment.\n",
    "```\n",
    "conda activate dapy\n",
    "```"
   ]
  },
  {
   "cell_type": "markdown",
   "metadata": {
    "slideshow": {
     "slide_type": "slide"
    }
   },
   "source": [
    "## 4: Install & Enable ipywidgets extentions\n",
    "Install ipywidgets JupyterLab extension\n",
    "```\n",
    "jupyter labextension install @jupyter-widgets/jupyterlab-manager\n",
    "```\n",
    "\n",
    "Enable  widgetsnbextension\n",
    "```\n",
    "jupyter nbextension enable --py widgetsnbextension --sys-prefix\n",
    "```"
   ]
  },
  {
   "cell_type": "markdown",
   "metadata": {
    "slideshow": {
     "slide_type": "slide"
    }
   },
   "source": [
    "## 5: Check installation\n",
    "Use [check_environment.py](https://github.com/aymanibrahim/dapy/blob/master/check_environment.py) script to make sure everything was installed correctly, open a terminal, and change its directory (cd) so that your working directory\n",
    "is the workshop directory _dapy_ you cloned or downloaded. Then enter the following:\n",
    "```\n",
    "python check_environment.py\n",
    "```"
   ]
  },
  {
   "cell_type": "markdown",
   "metadata": {
    "slideshow": {
     "slide_type": "slide"
    }
   },
   "source": [
    "If everything is OK, you will get the following message:\n",
    "> Your workshop environment is set up"
   ]
  },
  {
   "cell_type": "markdown",
   "metadata": {
    "slideshow": {
     "slide_type": "slide"
    }
   },
   "source": [
    "## 6: Start JupyterLab\n",
    "Start JupyterLab using:\n",
    "```\n",
    "jupyter lab\n",
    "```\n",
    "JupyterLab will open automatically in your browser.\n",
    "\n",
    "You may access JupyterLab by entering the notebook server’s URL into the browser.\n"
   ]
  },
  {
   "cell_type": "markdown",
   "metadata": {
    "slideshow": {
     "slide_type": "slide"
    }
   },
   "source": [
    "## 7: Stop JupyterLab\n",
    "Press **CTRL + C** in the terminal to stop JupyterLab."
   ]
  },
  {
   "cell_type": "markdown",
   "metadata": {
    "slideshow": {
     "slide_type": "slide"
    }
   },
   "source": [
    "## 8: Deactivate environment\n",
    "Change the current environment (_dapy_) into the previous environment.\n",
    "```\n",
    "conda deactivate\n",
    "```"
   ]
  }
 ],
 "metadata": {
  "celltoolbar": "Slideshow",
  "kernelspec": {
   "display_name": "Python 3 (ipykernel)",
   "language": "python",
   "name": "python3"
  },
  "language_info": {
   "codemirror_mode": {
    "name": "ipython",
    "version": 3
   },
   "file_extension": ".py",
   "mimetype": "text/x-python",
   "name": "python",
   "nbconvert_exporter": "python",
   "pygments_lexer": "ipython3",
   "version": "3.8.13"
  }
 },
 "nbformat": 4,
 "nbformat_minor": 4
}
