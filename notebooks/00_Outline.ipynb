{
 "cells": [
  {
   "cell_type": "markdown",
   "metadata": {},
   "source": [
    "# Data Analysis with Python Workshop "
   ]
  },
  {
   "cell_type": "markdown",
   "metadata": {
    "heading_collapsed": true
   },
   "source": [
    "# Outline"
   ]
  },
  {
   "cell_type": "markdown",
   "metadata": {},
   "source": [
    "# [01 Intro](https://github.com/aymanibrahim/dapy/blob/master/notebooks/01_Intro.ipynb)"
   ]
  },
  {
   "cell_type": "markdown",
   "metadata": {},
   "source": [
    "- [x] Understanding the Domain\n",
    "- [ ] Understanding the Dataset\n",
    "- [ ] Python package for data science\n",
    "- [ ] Importing and Exporting Data in Python\n",
    "- [ ] Basic Insights from Datasets"
   ]
  },
  {
   "cell_type": "markdown",
   "metadata": {},
   "source": [
    "# [02 Data Wrangling](https://github.com/aymanibrahim/dapy/blob/master/notebooks/02_Data_Wrangling.ipynb)"
   ]
  },
  {
   "cell_type": "markdown",
   "metadata": {},
   "source": [
    "- [ ] Identify and Handle Missing Values\n",
    "- [ ] Data Formatting\n",
    "- [ ] Data Normalization Sets\n",
    "- [ ] Binning\n",
    "- [ ] Indicator variables"
   ]
  },
  {
   "cell_type": "markdown",
   "metadata": {
    "heading_collapsed": true
   },
   "source": [
    "# [03 EDA](https://github.com/aymanibrahim/dapy/blob/master/notebooks/03_EDA.ipynb)"
   ]
  },
  {
   "cell_type": "markdown",
   "metadata": {
    "hidden": true
   },
   "source": [
    "- [ ] Descriptive Statistics\n",
    "- [ ] Basic of Grouping\n",
    "- [ ] ANOVA\n",
    "- [ ] Correlation"
   ]
  },
  {
   "cell_type": "markdown",
   "metadata": {
    "heading_collapsed": true
   },
   "source": [
    "# [04 Model Development](https://github.com/aymanibrahim/dapy/blob/master/notebooks/04_Model_Development.ipynb)"
   ]
  },
  {
   "cell_type": "markdown",
   "metadata": {
    "hidden": true
   },
   "source": [
    "- [ ] Simple and Multiple Linear Regression\n",
    "- [ ] Model Evaluation Using Visualization\n",
    "- [ ] Polynomial Regression and Pipelines\n",
    "- [ ] R-squared and MSE for In-Sample Evaluation\n",
    "- [ ] Prediction and Decision Making"
   ]
  },
  {
   "cell_type": "markdown",
   "metadata": {
    "heading_collapsed": true
   },
   "source": [
    "# [05 Model Evaluation](https://github.com/aymanibrahim/dapy/blob/master/notebooks/05_Model_Evaluation.ipynb)"
   ]
  },
  {
   "cell_type": "markdown",
   "metadata": {
    "hidden": true
   },
   "source": [
    "- [ ] Model Evaluation\n",
    "- [ ] Over-fitting, Under-fitting and Model Selection\n",
    "- [ ] Ridge Regression\n",
    "- [ ] Grid Search\n",
    "- [ ] Model Refinement"
   ]
  }
 ],
 "metadata": {
  "kernelspec": {
   "display_name": "Python 3",
   "language": "python",
   "name": "python3"
  },
  "language_info": {
   "codemirror_mode": {
    "name": "ipython",
    "version": 3
   },
   "file_extension": ".py",
   "mimetype": "text/x-python",
   "name": "python",
   "nbconvert_exporter": "python",
   "pygments_lexer": "ipython3",
   "version": "3.7.3"
  }
 },
 "nbformat": 4,
 "nbformat_minor": 4
}
