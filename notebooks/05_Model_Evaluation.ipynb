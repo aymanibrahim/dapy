{
 "cells": [
  {
   "cell_type": "markdown",
   "metadata": {
    "slideshow": {
     "slide_type": "slide"
    }
   },
   "source": [
    "# 05 Model Evaluation\n",
    "\n",
    "- Model Evaluation\n",
    "- Over-fitting, Under-fitting and Model Selection\n",
    "- Ridge Regression\n",
    "- Grid Search\n",
    "- Model Refinement"
   ]
  },
  {
   "cell_type": "markdown",
   "metadata": {
    "slideshow": {
     "slide_type": "slide"
    }
   },
   "source": [
    "# Evaluation"
   ]
  },
  {
   "cell_type": "markdown",
   "metadata": {},
   "source": [
    ">How can you be certain the model works in the real world and performs optimally."
   ]
  },
  {
   "cell_type": "markdown",
   "metadata": {
    "slideshow": {
     "slide_type": "slide"
    }
   },
   "source": [
    "<p align=\"center\"> \n",
    "<img src=\"../images/05_Model_Evaluation/01_evaluate/01_out_of_sample.png\", width=800, height=600>|\n",
    "</p>"
   ]
  },
  {
   "cell_type": "markdown",
   "metadata": {
    "slideshow": {
     "slide_type": "slide"
    }
   },
   "source": [
    "## Dataset"
   ]
  },
  {
   "cell_type": "code",
   "execution_count": null,
   "metadata": {
    "slideshow": {
     "slide_type": "slide"
    }
   },
   "outputs": [],
   "source": [
    "import pandas as pd\n",
    "import numpy as np\n",
    "\n",
    "# Import clean data \n",
    "url = 'https://s3-api.us-geo.objectstorage.softlayer.net/cf-courses-data/CognitiveClass/DA0101EN/module_5_auto.csv'\n",
    "df = pd.read_csv(url)"
   ]
  },
  {
   "cell_type": "markdown",
   "metadata": {
    "slideshow": {
     "slide_type": "slide"
    }
   },
   "source": [
    "## Save dataset into data directory"
   ]
  },
  {
   "cell_type": "code",
   "execution_count": null,
   "metadata": {},
   "outputs": [],
   "source": [
    "df.to_csv('../data/module_5_auto.csv')"
   ]
  },
  {
   "cell_type": "markdown",
   "metadata": {
    "slideshow": {
     "slide_type": "slide"
    }
   },
   "source": [
    "## Use numeric data"
   ]
  },
  {
   "cell_type": "code",
   "execution_count": null,
   "metadata": {
    "slideshow": {
     "slide_type": "slide"
    }
   },
   "outputs": [],
   "source": [
    "df = df._get_numeric_data()\n",
    "df.head()"
   ]
  },
  {
   "cell_type": "markdown",
   "metadata": {
    "slideshow": {
     "slide_type": "slide"
    }
   },
   "source": [
    "## Import plotting libraries"
   ]
  },
  {
   "cell_type": "code",
   "execution_count": null,
   "metadata": {
    "collapsed": false,
    "jupyter": {
     "outputs_hidden": false
    }
   },
   "outputs": [],
   "source": [
    "from IPython.display import display\n",
    "from ipywidgets import widgets, interact, interactive, fixed, interact_manual"
   ]
  },
  {
   "cell_type": "markdown",
   "metadata": {
    "slideshow": {
     "slide_type": "slide"
    }
   },
   "source": [
    "## Functions for plotting"
   ]
  },
  {
   "cell_type": "code",
   "execution_count": null,
   "metadata": {
    "collapsed": false,
    "jupyter": {
     "outputs_hidden": false
    }
   },
   "outputs": [],
   "source": [
    "def DistributionPlot(RedFunction, BlueFunction, RedName, BlueName, Title):\n",
    "    width = 12\n",
    "    height = 10\n",
    "    plt.figure(figsize=(width, height))\n",
    "\n",
    "    ax1 = sns.distplot(RedFunction, hist=False, color=\"r\", label=RedName)\n",
    "    ax2 = sns.distplot(BlueFunction, hist=False, color=\"b\", label=BlueName, ax=ax1)\n",
    "\n",
    "    plt.title(Title)\n",
    "    plt.xlabel('Price (in dollars)')\n",
    "    plt.ylabel('Proportion of Cars')\n",
    "    \n",
    "    title_str = Title.lower().replace(\" \", \"_\") + '_distplot'\n",
    "    filename = f'../figs/05_Model_Evaluation/02_select/{title_str}'\n",
    "    plt.savefig(filename)"
   ]
  },
  {
   "cell_type": "code",
   "execution_count": null,
   "metadata": {
    "collapsed": false,
    "jupyter": {
     "outputs_hidden": false
    },
    "slideshow": {
     "slide_type": "slide"
    }
   },
   "outputs": [],
   "source": [
    "def PollyPlot(xtrain, xtest, y_train, y_test, lr, poly_transform):\n",
    "    # xtrain, y_train: training data \n",
    "    # xtest, y_test: testing data \n",
    "    # lr:  linear regression object \n",
    "    # poly_transform:  polynomial transformation object\n",
    "    \n",
    "    width = 12\n",
    "    height = 10\n",
    "    plt.figure(figsize=(width, height))         \n",
    " \n",
    "    xmax = max([xtrain.values.max(), xtest.values.max()])\n",
    "    xmin = min([xtrain.values.min(), xtest.values.min()])\n",
    "\n",
    "    x = np.arange(xmin, xmax, 0.1)\n",
    "\n",
    "    plt.plot(xtrain, y_train, 'ro', label='Training Data')\n",
    "    plt.plot(xtest, y_test, 'go', label='Test Data')\n",
    "    plt.plot(x, lr.predict(poly_transform.fit_transform(x.reshape(-1, 1))), label='Predicted Function')\n",
    "    plt.ylim([-10000, 60000])\n",
    "    plt.ylabel('Price')\n",
    "    plt.legend()    "
   ]
  },
  {
   "cell_type": "markdown",
   "metadata": {
    "slideshow": {
     "slide_type": "slide"
    }
   },
   "source": [
    "# Training and Testing"
   ]
  },
  {
   "cell_type": "markdown",
   "metadata": {},
   "source": [
    "### Split your data into training and testing data"
   ]
  },
  {
   "cell_type": "markdown",
   "metadata": {
    "slideshow": {
     "slide_type": "slide"
    }
   },
   "source": [
    "<p align=\"center\"> \n",
    "<img src=\"../images/05_Model_Evaluation/01_evaluate/02_split_dataset.png\", width=800, height=600>|\n",
    "</p>"
   ]
  },
  {
   "cell_type": "markdown",
   "metadata": {
    "slideshow": {
     "slide_type": "slide"
    }
   },
   "source": [
    "<p align=\"center\"> \n",
    "<img src=\"../images/05_Model_Evaluation/01_evaluate/03_training_testing.png\", width=800, height=600>|\n",
    "</p>"
   ]
  },
  {
   "cell_type": "markdown",
   "metadata": {
    "slideshow": {
     "slide_type": "slide"
    }
   },
   "source": [
    "<p align=\"center\"> \n",
    "<img src=\"../images/05_Model_Evaluation/01_evaluate/04_train_test_split.png\", width=800, height=600>|\n",
    "</p>"
   ]
  },
  {
   "cell_type": "code",
   "execution_count": null,
   "metadata": {
    "slideshow": {
     "slide_type": "slide"
    }
   },
   "outputs": [],
   "source": [
    "# place the target data price in a separate dataframe y\n",
    "y_data = df['price']\n",
    "y_data.head()"
   ]
  },
  {
   "cell_type": "code",
   "execution_count": null,
   "metadata": {
    "slideshow": {
     "slide_type": "slide"
    }
   },
   "outputs": [],
   "source": [
    "# drop price data in x data\n",
    "x_data=df.drop('price',axis=1)\n",
    "x_data.head()"
   ]
  },
  {
   "cell_type": "markdown",
   "metadata": {
    "slideshow": {
     "slide_type": "slide"
    }
   },
   "source": [
    "### Use the function \"train_test_split\" to split up the data set \n",
    "- 15% of the data samples will be utilized for testing\n",
    "- set the parameter \"random_state\" equal to zero. \n",
    "- The output of the function should be the following: \n",
    " - \"x_train\" , \"x_test\", \"y_train\" and \"y_test\""
   ]
  },
  {
   "cell_type": "code",
   "execution_count": null,
   "metadata": {
    "slideshow": {
     "slide_type": "slide"
    }
   },
   "outputs": [],
   "source": [
    "# split our data into training and testing data\n",
    "# using the function train_test_split.\n",
    "from sklearn.model_selection import train_test_split\n",
    "x_train, x_test, y_train, y_test = train_test_split(x_data, y_data, test_size=0.15, random_state=0)"
   ]
  },
  {
   "cell_type": "code",
   "execution_count": null,
   "metadata": {
    "slideshow": {
     "slide_type": "slide"
    }
   },
   "outputs": [],
   "source": [
    "print(f\"number of test samples : { x_test.shape[0]}\")\n",
    "print(f\"number of training samples: {x_train.shape[0]}\")"
   ]
  },
  {
   "cell_type": "code",
   "execution_count": null,
   "metadata": {
    "slideshow": {
     "slide_type": "slide"
    }
   },
   "outputs": [],
   "source": [
    "# Import LinearRegression from the module linear_model\n",
    "from sklearn.linear_model import LinearRegression"
   ]
  },
  {
   "cell_type": "code",
   "execution_count": null,
   "metadata": {
    "slideshow": {
     "slide_type": "slide"
    }
   },
   "outputs": [],
   "source": [
    "# Create a Linear Regression object:\n",
    "lre=LinearRegression()"
   ]
  },
  {
   "cell_type": "code",
   "execution_count": null,
   "metadata": {
    "slideshow": {
     "slide_type": "slide"
    }
   },
   "outputs": [],
   "source": [
    "# Fit the model using the feature horsepower\n",
    "lre.fit(x_train[['horsepower']], y_train)"
   ]
  },
  {
   "cell_type": "code",
   "execution_count": null,
   "metadata": {
    "slideshow": {
     "slide_type": "slide"
    }
   },
   "outputs": [],
   "source": [
    "# Calculate the R^2 on the test data:\n",
    "r_squared = lre.score(x_test[['horsepower']], y_test)\n",
    "print(f\"R^2 on the test data  = {r_squared:.5f}\")"
   ]
  },
  {
   "cell_type": "markdown",
   "metadata": {
    "slideshow": {
     "slide_type": "slide"
    }
   },
   "source": [
    "### Use the function \"train_test_split\" to split up the data set \n",
    "- 40% of the data samples will be utilized for testing\n",
    "- set the parameter \"random_state\" equal to zero. \n",
    "- The output of the function should be the following: \n",
    " - \"x_train_1\" , \"x_test_1\", \"y_train_1\" and \"y_test_1\""
   ]
  },
  {
   "cell_type": "code",
   "execution_count": null,
   "metadata": {
    "slideshow": {
     "slide_type": "slide"
    }
   },
   "outputs": [],
   "source": [
    "# split our data into training and testing data\n",
    "# using the function train_test_split.\n",
    "from sklearn.model_selection import train_test_split\n",
    "x_train_1, x_test_1, y_train_1, y_test_1 = train_test_split(x_data, y_data, test_size=0.40, random_state=0)"
   ]
  },
  {
   "cell_type": "code",
   "execution_count": null,
   "metadata": {
    "slideshow": {
     "slide_type": "slide"
    }
   },
   "outputs": [],
   "source": [
    "print(f\"number of test samples : { x_test_1.shape[0]}\")\n",
    "print(f\"number of training samples: {x_train_1.shape[0]}\")"
   ]
  },
  {
   "cell_type": "code",
   "execution_count": null,
   "metadata": {
    "slideshow": {
     "slide_type": "slide"
    }
   },
   "outputs": [],
   "source": [
    "# Import LinearRegression from the module linear_model\n",
    "from sklearn.linear_model import LinearRegression"
   ]
  },
  {
   "cell_type": "code",
   "execution_count": null,
   "metadata": {
    "slideshow": {
     "slide_type": "slide"
    }
   },
   "outputs": [],
   "source": [
    "# Create a Linear Regression object:\n",
    "lre1=LinearRegression()"
   ]
  },
  {
   "cell_type": "code",
   "execution_count": null,
   "metadata": {
    "slideshow": {
     "slide_type": "slide"
    }
   },
   "outputs": [],
   "source": [
    "# Fit the model using the feature horsepower\n",
    "lre1.fit(x_train_1[['horsepower']], y_train_1)"
   ]
  },
  {
   "cell_type": "code",
   "execution_count": null,
   "metadata": {
    "slideshow": {
     "slide_type": "slide"
    }
   },
   "outputs": [],
   "source": [
    "# Calculate the R^2 on the test data:\n",
    "r_squared = lre1.score(x_test_1[['horsepower']], y_test_1)\n",
    "print(f\"R^2 on the test data 1 = {r_squared:.5f}\")"
   ]
  },
  {
   "cell_type": "markdown",
   "metadata": {},
   "source": [
    "### R^2 is much smaller using the test data"
   ]
  },
  {
   "cell_type": "markdown",
   "metadata": {
    "slideshow": {
     "slide_type": "slide"
    }
   },
   "source": [
    "### Find the R^2 on the test data using 90% of the data for training data"
   ]
  },
  {
   "cell_type": "code",
   "execution_count": null,
   "metadata": {
    "slideshow": {
     "slide_type": "slide"
    }
   },
   "outputs": [],
   "source": [
    "x_train_2, x_test_2, y_train_2, y_test_2 = train_test_split(x_data, y_data, test_size=0.10, random_state=0)"
   ]
  },
  {
   "cell_type": "code",
   "execution_count": null,
   "metadata": {
    "slideshow": {
     "slide_type": "slide"
    }
   },
   "outputs": [],
   "source": [
    "print(f\"number of test samples : { x_test_2.shape[0]}\")\n",
    "print(f\"number of training samples: {x_train_2.shape[0]}\")"
   ]
  },
  {
   "cell_type": "code",
   "execution_count": null,
   "metadata": {
    "slideshow": {
     "slide_type": "slide"
    }
   },
   "outputs": [],
   "source": [
    "from sklearn.linear_model import LinearRegression\n",
    "lre2 = LinearRegression()\n",
    "lre2.fit(x_train_2[['horsepower']], y_train_2)\n",
    "r_squared = lre2.score(x_test_2[['horsepower']], y_test_2)\n",
    "print(f\"R^2 on the test data 2 = {r_squared:.5f}\")"
   ]
  },
  {
   "cell_type": "markdown",
   "metadata": {},
   "source": [
    "## Cross-validation"
   ]
  },
  {
   "cell_type": "markdown",
   "metadata": {
    "slideshow": {
     "slide_type": "slide"
    }
   },
   "source": [
    "<p align=\"center\"> \n",
    "<img src=\"../images/05_Model_Evaluation/01_evaluate/05_generalization_error.png\", width=800, height=600>|\n",
    "</p>"
   ]
  },
  {
   "cell_type": "markdown",
   "metadata": {
    "slideshow": {
     "slide_type": "slide"
    }
   },
   "source": [
    "<p align=\"center\"> \n",
    "<img src=\"../images/05_Model_Evaluation/01_evaluate/06_generalization_error_train_test.png\", width=800, height=600>|\n",
    "</p>"
   ]
  },
  {
   "cell_type": "markdown",
   "metadata": {
    "slideshow": {
     "slide_type": "slide"
    }
   },
   "source": [
    "<p align=\"center\"> \n",
    "<img src=\"../images/05_Model_Evaluation/01_evaluate/07_train_test.png\", width=800, height=600>|\n",
    "</p>"
   ]
  },
  {
   "cell_type": "markdown",
   "metadata": {
    "slideshow": {
     "slide_type": "slide"
    }
   },
   "source": [
    "<p align=\"center\"> \n",
    "<img src=\"../images/05_Model_Evaluation/01_evaluate/08_good_accuracy_poor_precision.png\", width=800, height=600>|\n",
    "</p>"
   ]
  },
  {
   "cell_type": "markdown",
   "metadata": {
    "slideshow": {
     "slide_type": "slide"
    }
   },
   "source": [
    "<p align=\"center\"> \n",
    "<img src=\"../images/05_Model_Evaluation/01_evaluate/09_poor_accuracy_good_precision.png\", width=800, height=600>|\n",
    "</p>"
   ]
  },
  {
   "cell_type": "markdown",
   "metadata": {
    "slideshow": {
     "slide_type": "slide"
    }
   },
   "source": [
    "## Cross-validation Score"
   ]
  },
  {
   "cell_type": "markdown",
   "metadata": {},
   "source": [
    "### Perform Cross-validation when you do not have sufficient testing data\n",
    ">All  error estimates are relatively close together,\n",
    "but they are further away from the true generalization performance.\n",
    "- To overcome this problem, we use cross validation."
   ]
  },
  {
   "cell_type": "markdown",
   "metadata": {
    "slideshow": {
     "slide_type": "slide"
    }
   },
   "source": [
    "<p align=\"center\"> \n",
    "<img src=\"../images/05_Model_Evaluation/01_evaluate/10_cross_validation.png\", width=800, height=600>|\n",
    "</p>"
   ]
  },
  {
   "cell_type": "markdown",
   "metadata": {
    "slideshow": {
     "slide_type": "slide"
    }
   },
   "source": [
    "<p align=\"center\"> \n",
    "<img src=\"../images/05_Model_Evaluation/01_evaluate/11_cross_val_score_1.png\", width=800, height=600>|\n",
    "</p>"
   ]
  },
  {
   "cell_type": "markdown",
   "metadata": {
    "slideshow": {
     "slide_type": "slide"
    }
   },
   "source": [
    "<p align=\"center\"> \n",
    "<img src=\"../images/05_Model_Evaluation/01_evaluate/12_cross_val_score_2.png\", width=800, height=600>|\n",
    "</p>"
   ]
  },
  {
   "cell_type": "markdown",
   "metadata": {
    "slideshow": {
     "slide_type": "slide"
    }
   },
   "source": [
    "<p align=\"center\"> \n",
    "<img src=\"../images/05_Model_Evaluation/01_evaluate/13_cross_val_score_3.png\", width=800, height=600>|\n",
    "</p>"
   ]
  },
  {
   "cell_type": "code",
   "execution_count": null,
   "metadata": {
    "slideshow": {
     "slide_type": "slide"
    }
   },
   "outputs": [],
   "source": [
    "# import cross_val_score from the module model_selection.\n",
    "from sklearn.model_selection import cross_val_score"
   ]
  },
  {
   "cell_type": "code",
   "execution_count": null,
   "metadata": {
    "slideshow": {
     "slide_type": "slide"
    }
   },
   "outputs": [],
   "source": [
    "# input the object, \n",
    "# the feature 'horsepower' in this case, \n",
    "# the target data (y_data). \n",
    "# parameter 'cv' determines the number of folds; 4 in this case.\n",
    "Rcross = cross_val_score(lre, x_data[['horsepower']], y_data, cv=4)"
   ]
  },
  {
   "cell_type": "code",
   "execution_count": null,
   "metadata": {
    "slideshow": {
     "slide_type": "slide"
    }
   },
   "outputs": [],
   "source": [
    "# The default scoring is R^2; \n",
    "# each element in the array has the average R^2 value in the fold:\n",
    "Rcross"
   ]
  },
  {
   "cell_type": "code",
   "execution_count": null,
   "metadata": {
    "slideshow": {
     "slide_type": "slide"
    }
   },
   "outputs": [],
   "source": [
    "# Calculate average and standard deviation of the estimate\n",
    "print(f\"Mean of the folds are {Rcross.mean():.5f}\")\n",
    "print(f\"Standard deviation is {Rcross.std():.5f}\")"
   ]
  },
  {
   "cell_type": "code",
   "execution_count": null,
   "metadata": {
    "slideshow": {
     "slide_type": "slide"
    }
   },
   "outputs": [],
   "source": [
    "# use mean squared error as a score \n",
    "# by setting the parameter 'scoring' metric to 'neg_mean_squared_error'.\n",
    "mse_cross = -1 * cross_val_score(lre,x_data[['horsepower']], y_data,cv=4,scoring='neg_mean_squared_error')\n",
    "['{:,.0f}'.format(i) for i in mse_cross.tolist()]"
   ]
  },
  {
   "cell_type": "markdown",
   "metadata": {
    "slideshow": {
     "slide_type": "slide"
    }
   },
   "source": [
    "### Calculate the average R^2 using two folds"
   ]
  },
  {
   "cell_type": "markdown",
   "metadata": {},
   "source": [
    ">Calculate the average R^2 using two folds\n",
    "- find the average R^2 for the second fold utilizing the horsepower as a feature"
   ]
  },
  {
   "cell_type": "code",
   "execution_count": null,
   "metadata": {
    "slideshow": {
     "slide_type": "slide"
    }
   },
   "outputs": [],
   "source": [
    "Rcross2 = cross_val_score(lre, x_data[['horsepower']], y_data, cv=2)\n",
    "Rcross2_str  = ['{:.5f}'.format(i) for i in Rcross2.tolist()]\n",
    "print(f\"R^2 using two folds : {Rcross2_str}\")\n",
    "print(f\"Average R^2 using two folds = {Rcross2.mean():.5f}\")\n",
    "print(f\"Standard deviation is {Rcross2.std():.5f}\")"
   ]
  },
  {
   "cell_type": "markdown",
   "metadata": {
    "slideshow": {
     "slide_type": "slide"
    }
   },
   "source": [
    "### Predict using cross_val_predict"
   ]
  },
  {
   "cell_type": "markdown",
   "metadata": {
    "slideshow": {
     "slide_type": "slide"
    }
   },
   "source": [
    "<p align=\"center\"> \n",
    "<img src=\"../images/05_Model_Evaluation/01_evaluate/14_cross_val_predict_1.png\", width=800, height=600>|\n",
    "</p>"
   ]
  },
  {
   "cell_type": "markdown",
   "metadata": {
    "slideshow": {
     "slide_type": "slide"
    }
   },
   "source": [
    "<p align=\"center\"> \n",
    "<img src=\"../images/05_Model_Evaluation/01_evaluate/15_cross_val_predict_2.png\", width=800, height=600>|\n",
    "</p>"
   ]
  },
  {
   "cell_type": "markdown",
   "metadata": {
    "slideshow": {
     "slide_type": "slide"
    }
   },
   "source": [
    "<p align=\"center\"> \n",
    "<img src=\"../images/05_Model_Evaluation/01_evaluate/16_cross_val_predict_3.png\", width=800, height=600>|\n",
    "</p>"
   ]
  },
  {
   "cell_type": "markdown",
   "metadata": {
    "slideshow": {
     "slide_type": "slide"
    }
   },
   "source": [
    "<p align=\"center\"> \n",
    "<img src=\"../images/05_Model_Evaluation/01_evaluate/17_cross_val_predict_4.png\", width=800, height=600>|\n",
    "</p>"
   ]
  },
  {
   "cell_type": "code",
   "execution_count": null,
   "metadata": {
    "slideshow": {
     "slide_type": "slide"
    }
   },
   "outputs": [],
   "source": [
    "# use the function 'cross_val_predict' to predict the output. \n",
    "# splits up the data into the specified number of folds, \n",
    "# using one fold to get a prediction\n",
    "# while the rest of the folds are used as test data\n",
    "\n",
    "from sklearn.model_selection import cross_val_predict\n",
    "\n",
    "yhat = cross_val_predict(lre,x_data[['horsepower']], y_data,cv=4)\n",
    "['{:,.0f}'.format(i) for i in yhat[0:5].tolist()]"
   ]
  },
  {
   "cell_type": "markdown",
   "metadata": {
    "slideshow": {
     "slide_type": "slide"
    }
   },
   "source": [
    "# Overfitting, Underfitting and Model Selection"
   ]
  },
  {
   "cell_type": "markdown",
   "metadata": {},
   "source": [
    "### How to pick the best polynomial order?\n",
    "- Assume the training points come from a polynomial function plus some noise.\n",
    "- The goal of model selection is to determine the order of the polynomial to provide the best estimate of the function $y$ = $f(x)$"
   ]
  },
  {
   "cell_type": "markdown",
   "metadata": {},
   "source": [
    "### Select polynomial order that minimizes the test error\n",
    "- **Any order less is considered under-fitting.**\n",
    "- **Any order more is considered over-fitting.**"
   ]
  },
  {
   "cell_type": "markdown",
   "metadata": {
    "slideshow": {
     "slide_type": "slide"
    }
   },
   "source": [
    "<p align=\"center\"> \n",
    "<img src=\"../images/05_Model_Evaluation/02_select/01_true_function.png\", width=800, height=600>|\n",
    "</p>"
   ]
  },
  {
   "cell_type": "markdown",
   "metadata": {
    "slideshow": {
     "slide_type": "slide"
    }
   },
   "source": [
    "<p align=\"center\"> \n",
    "<img src=\"../images/05_Model_Evaluation/02_select/02_sample_points_true_function_noise.png\", width=800, height=600>|\n",
    "</p>"
   ]
  },
  {
   "cell_type": "markdown",
   "metadata": {
    "slideshow": {
     "slide_type": "slide"
    }
   },
   "source": [
    "<p align=\"center\"> \n",
    "<img src=\"../images/05_Model_Evaluation/02_select/03_underfit_linear_model.png\", width=800, height=600>|\n",
    "</p>"
   ]
  },
  {
   "cell_type": "markdown",
   "metadata": {
    "slideshow": {
     "slide_type": "slide"
    }
   },
   "source": [
    "<p align=\"center\"> \n",
    "<img src=\"../images/05_Model_Evaluation/02_select/04_underfit_2_poly.png\", width=800, height=600>|\n",
    "</p>"
   ]
  },
  {
   "cell_type": "markdown",
   "metadata": {
    "slideshow": {
     "slide_type": "slide"
    }
   },
   "source": [
    "<p align=\"center\"> \n",
    "<img src=\"../images/05_Model_Evaluation/02_select/05_fit_8_poly.png\", width=800, height=600>|\n",
    "</p>"
   ]
  },
  {
   "cell_type": "markdown",
   "metadata": {
    "slideshow": {
     "slide_type": "slide"
    }
   },
   "source": [
    "<p align=\"center\"> \n",
    "<img src=\"../images/05_Model_Evaluation/02_select/06_overfit_16_poly.png\", width=800, height=600>|\n",
    "</p>"
   ]
  },
  {
   "cell_type": "code",
   "execution_count": null,
   "metadata": {
    "slideshow": {
     "slide_type": "slide"
    }
   },
   "outputs": [],
   "source": [
    "# Create Multiple linear regression objects and train the model \n",
    "# using 'horsepower', 'curb-weight', 'engine-size' and 'highway-mpg' as features.\n",
    "lr = LinearRegression()\n",
    "lr.fit(x_train[['horsepower', 'curb-weight', 'engine-size', 'highway-mpg']], y_train)"
   ]
  },
  {
   "cell_type": "code",
   "execution_count": null,
   "metadata": {
    "slideshow": {
     "slide_type": "slide"
    }
   },
   "outputs": [],
   "source": [
    "# Prediction using training data:\n",
    "yhat_train = lr.predict(x_train[['horsepower', 'curb-weight', 'engine-size', 'highway-mpg']])\n",
    "['{:,.0f}'.format(i) for i in yhat_train[0:5].tolist()]"
   ]
  },
  {
   "cell_type": "code",
   "execution_count": null,
   "metadata": {
    "slideshow": {
     "slide_type": "slide"
    }
   },
   "outputs": [],
   "source": [
    "#Prediction using test data\n",
    "yhat_test = lr.predict(x_test[['horsepower', 'curb-weight', 'engine-size', 'highway-mpg']])\n",
    "['{:,.0f}'.format(i) for i in yhat_test[0:5].tolist()]"
   ]
  },
  {
   "cell_type": "code",
   "execution_count": null,
   "metadata": {
    "slideshow": {
     "slide_type": "slide"
    }
   },
   "outputs": [],
   "source": [
    "# Perform some model evaluation using our training and testing data separately.\n",
    "# First we import the seaborn and matplotlibb library for plotting.\n",
    "import matplotlib.pyplot as plt\n",
    "%matplotlib inline\n",
    "import seaborn as sns"
   ]
  },
  {
   "cell_type": "code",
   "execution_count": null,
   "metadata": {
    "slideshow": {
     "slide_type": "slide"
    }
   },
   "outputs": [],
   "source": [
    "# Examine the distribution of the predicted values of the training data.\n",
    "Title = 'Distribution Plot of Predicted Value Using Training Data vs Data Distribution of Training Data'\n",
    "DistributionPlot(y_train, yhat_train, \"Actual Values (Train)\", \"Predicted Values (Train)\", Title)"
   ]
  },
  {
   "cell_type": "markdown",
   "metadata": {
    "slideshow": {
     "slide_type": "slide"
    }
   },
   "source": [
    "### Plot of predicted values using the training data compared to the actual training data.\n",
    "\n",
    ">Model seems to be doing well in learning from the training dataset. \n",
    "\n",
    ">When the model generates new values from the test data, we see the distribution of the predicted values is much different from the actual target values."
   ]
  },
  {
   "cell_type": "code",
   "execution_count": null,
   "metadata": {
    "slideshow": {
     "slide_type": "slide"
    }
   },
   "outputs": [],
   "source": [
    "Title='Distribution  Plot of  Predicted Value Using Test Data vs Data Distribution of Test Data'\n",
    "DistributionPlot(y_test,yhat_test,\"Actual Values (Test)\",\"Predicted Values (Test)\",Title)"
   ]
  },
  {
   "cell_type": "markdown",
   "metadata": {
    "slideshow": {
     "slide_type": "slide"
    }
   },
   "source": [
    "### Plot of predicted value using the test data compared to the test data.\n",
    "\n",
    ">Comparing the figures\n",
    ">The distribution of the test data in first figure is much better at fitting the data. \n",
    "\n",
    ">This difference in second figure is apparent where the ranges are from 5000 to 15 000. \n",
    "\n",
    ">This is where the distribution shape is exceptionally different. "
   ]
  },
  {
   "cell_type": "code",
   "execution_count": null,
   "metadata": {
    "slideshow": {
     "slide_type": "slide"
    }
   },
   "outputs": [],
   "source": [
    "# see if polynomial regression also exhibits a drop in the prediction accuracy when analysing the test dataset.\n",
    "from sklearn.preprocessing import PolynomialFeatures"
   ]
  },
  {
   "cell_type": "markdown",
   "metadata": {
    "slideshow": {
     "slide_type": "slide"
    }
   },
   "source": [
    "## Overfitting"
   ]
  },
  {
   "cell_type": "markdown",
   "metadata": {},
   "source": [
    "### Overfitting occurs when the model fits the noise, not the underlying process. \n",
    "\n",
    "> when testing your model using the test-set, your model does not perform as well as it is modelling noise, not the underlying process that generated the relationship. "
   ]
  },
  {
   "cell_type": "markdown",
   "metadata": {
    "slideshow": {
     "slide_type": "slide"
    }
   },
   "source": [
    "<p align=\"center\"> \n",
    "<img src=\"../images/05_Model_Evaluation/02_select/07_train_error.png\", width=800, height=600>|\n",
    "</p>"
   ]
  },
  {
   "cell_type": "markdown",
   "metadata": {
    "slideshow": {
     "slide_type": "slide"
    }
   },
   "source": [
    "<p align=\"center\"> \n",
    "<img src=\"../images/05_Model_Evaluation/02_select/08_test_error.png\", width=800, height=600>|\n",
    "</p>"
   ]
  },
  {
   "cell_type": "markdown",
   "metadata": {
    "slideshow": {
     "slide_type": "slide"
    }
   },
   "source": [
    "<p align=\"center\"> \n",
    "<img src=\"../images/05_Model_Evaluation/02_select/09_select_min_test_error.png\", width=800, height=600>|\n",
    "</p>"
   ]
  },
  {
   "cell_type": "markdown",
   "metadata": {
    "slideshow": {
     "slide_type": "slide"
    }
   },
   "source": [
    "<p align=\"center\"> \n",
    "<img src=\"../images/05_Model_Evaluation/02_select/10_ irreducible_ error_random_noise_term.png\", width=800, height=600>|\n",
    "</p>"
   ]
  },
  {
   "cell_type": "markdown",
   "metadata": {
    "slideshow": {
     "slide_type": "slide"
    }
   },
   "source": [
    "<p align=\"center\"> \n",
    "<img src=\"../images/05_Model_Evaluation/02_select/11_wrong_poly_sin.png\", width=800, height=600>|\n",
    "</p>"
   ]
  },
  {
   "cell_type": "markdown",
   "metadata": {
    "slideshow": {
     "slide_type": "slide"
    }
   },
   "source": [
    "<p align=\"center\"> \n",
    "<img src=\"../images/05_Model_Evaluation/02_select/12_mean_order_0_poly.png\", width=800, height=600>|\n",
    "</p>"
   ]
  },
  {
   "cell_type": "markdown",
   "metadata": {
    "slideshow": {
     "slide_type": "slide"
    }
   },
   "source": [
    "<p align=\"center\"> \n",
    "<img src=\"../images/05_Model_Evaluation/02_select/13_linear_order_1_poly.png\", width=800, height=600>|\n",
    "</p>"
   ]
  },
  {
   "cell_type": "markdown",
   "metadata": {
    "slideshow": {
     "slide_type": "slide"
    }
   },
   "source": [
    "<p align=\"center\"> \n",
    "<img src=\"../images/05_Model_Evaluation/02_select/14_order_2_poly.png\", width=800, height=600>|\n",
    "</p>"
   ]
  },
  {
   "cell_type": "markdown",
   "metadata": {
    "slideshow": {
     "slide_type": "slide"
    }
   },
   "source": [
    "<p align=\"center\"> \n",
    "<img src=\"../images/05_Model_Evaluation/02_select/15_order_3_poly.png\", width=800, height=600>|\n",
    "</p>"
   ]
  },
  {
   "cell_type": "markdown",
   "metadata": {
    "slideshow": {
     "slide_type": "slide"
    }
   },
   "source": [
    "<p align=\"center\"> \n",
    "<img src=\"../images/05_Model_Evaluation/02_select/16_order_4_poly_200_hp.png\", width=800, height=600>|\n",
    "</p>"
   ]
  },
  {
   "cell_type": "markdown",
   "metadata": {
    "slideshow": {
     "slide_type": "slide"
    }
   },
   "source": [
    "### Create a degree 5 polynomial model"
   ]
  },
  {
   "cell_type": "code",
   "execution_count": null,
   "metadata": {
    "slideshow": {
     "slide_type": "slide"
    }
   },
   "outputs": [],
   "source": [
    "# use 55 percent of the data for testing and the rest for training\n",
    "x_train, x_test, y_train, y_test = train_test_split(x_data, y_data, test_size=0.45, random_state=0)"
   ]
  },
  {
   "cell_type": "code",
   "execution_count": null,
   "metadata": {
    "slideshow": {
     "slide_type": "slide"
    }
   },
   "outputs": [],
   "source": [
    "# Perform a degree 5 polynomial transformation on the feature 'horse power'.\n",
    "from sklearn.preprocessing import PolynomialFeatures\n",
    "pr = PolynomialFeatures(degree=5)\n",
    "x_train_pr = pr.fit_transform(x_train[['horsepower']])\n",
    "x_test_pr = pr.fit_transform(x_test[['horsepower']])\n",
    "pr"
   ]
  },
  {
   "cell_type": "markdown",
   "metadata": {
    "slideshow": {
     "slide_type": "slide"
    }
   },
   "source": [
    "### Create a linear regression model \"poly\" and train it."
   ]
  },
  {
   "cell_type": "code",
   "execution_count": null,
   "metadata": {
    "slideshow": {
     "slide_type": "slide"
    }
   },
   "outputs": [],
   "source": [
    "poly = LinearRegression()\n",
    "poly.fit(x_train_pr, y_train)"
   ]
  },
  {
   "cell_type": "code",
   "execution_count": null,
   "metadata": {
    "slideshow": {
     "slide_type": "slide"
    }
   },
   "outputs": [],
   "source": [
    "# See the output of our model using the method \"predict.\" then \n",
    "# assign the values to \"yhat\".\n",
    "\n",
    "yhat = poly.predict(x_test_pr)\n",
    "yhat = [float('{:.1f}'.format(i)) for i in yhat[0:4]]"
   ]
  },
  {
   "cell_type": "code",
   "execution_count": null,
   "metadata": {
    "slideshow": {
     "slide_type": "slide"
    }
   },
   "outputs": [],
   "source": [
    "# Take the first five predicted values and \n",
    "# compare it to the actual targets.\n",
    "\n",
    "print(f\"Predicted values: {yhat}\")\n",
    "print(f\"True values     : {y_test[0:4].values}\")"
   ]
  },
  {
   "cell_type": "code",
   "execution_count": null,
   "metadata": {
    "slideshow": {
     "slide_type": "slide"
    }
   },
   "outputs": [],
   "source": [
    "# Use PollyPlot to display the training data, testing data, and the predicted function.\n",
    "\n",
    "PollyPlot(x_train[['horsepower']], x_test[['horsepower']], y_train, y_test, poly,pr)\n",
    "plt.gcf()\n",
    "filename = f'../figs/05_Model_Evaluation/02_select/degree5_poly_horse_power.png'\n",
    "plt.savefig(filename)"
   ]
  },
  {
   "cell_type": "markdown",
   "metadata": {
    "slideshow": {
     "slide_type": "slide"
    }
   },
   "source": [
    "### Polynomial regression model\n",
    "- red dots represent training data\n",
    "- green dots represent test data\n",
    "- blue line represents the model prediction.\n",
    "\n",
    ">The estimated function appears to track the data but around 200 horsepower, the function begins to diverge from the data points."
   ]
  },
  {
   "cell_type": "code",
   "execution_count": null,
   "metadata": {
    "slideshow": {
     "slide_type": "slide"
    }
   },
   "outputs": [],
   "source": [
    "# R^2 of the training data\n",
    "\n",
    "r_squared = poly.score(x_train_pr, y_train)\n",
    "print(f\"R^2 on the training data = {r_squared:.5f}\")"
   ]
  },
  {
   "cell_type": "code",
   "execution_count": null,
   "metadata": {
    "slideshow": {
     "slide_type": "slide"
    }
   },
   "outputs": [],
   "source": [
    "#R^2 of the test data\n",
    "\n",
    "r_squared = poly.score(x_test_pr, y_test)\n",
    "print(f\"R^2 on the test data = {r_squared:.5f}\")"
   ]
  },
  {
   "cell_type": "markdown",
   "metadata": {
    "slideshow": {
     "slide_type": "slide"
    }
   },
   "source": [
    "### R^2 for the training data is 0.5567 while the R^2 on the test data was -29.87. \n",
    "- The lower the R^2, the worse the model\n",
    "- Negative R^2 is a sign of overfitting."
   ]
  },
  {
   "cell_type": "markdown",
   "metadata": {},
   "source": [
    "### R^2 Using Test Data"
   ]
  },
  {
   "cell_type": "markdown",
   "metadata": {
    "slideshow": {
     "slide_type": "slide"
    }
   },
   "source": [
    "<p align=\"center\"> \n",
    "<img src=\"../images/05_Model_Evaluation/02_select/17_max_r_squared_order_3.png\", width=800, height=600>|\n",
    "</p>"
   ]
  },
  {
   "cell_type": "markdown",
   "metadata": {
    "slideshow": {
     "slide_type": "slide"
    }
   },
   "source": [
    "<p align=\"center\"> \n",
    "<img src=\"../images/05_Model_Evaluation/02_select/18_calculate_r_squared_orders.png\", width=800, height=600>|\n",
    "</p>"
   ]
  },
  {
   "cell_type": "code",
   "execution_count": null,
   "metadata": {
    "slideshow": {
     "slide_type": "slide"
    }
   },
   "outputs": [],
   "source": [
    "# How the R^2 changes on the test data for different order polynomials and\n",
    "# plot the results\n",
    "\n",
    "Rsqu_test = []\n",
    "\n",
    "order = [1, 2, 3, 4]\n",
    "for n in order:\n",
    "    pr = PolynomialFeatures(degree=n)\n",
    "    \n",
    "    x_train_pr = pr.fit_transform(x_train[['horsepower']])\n",
    "    \n",
    "    x_test_pr = pr.fit_transform(x_test[['horsepower']])    \n",
    "    \n",
    "    lr.fit(x_train_pr, y_train)\n",
    "    \n",
    "    Rsqu_test.append(lr.score(x_test_pr, y_test))\n",
    "Rsqu_max = max(Rsqu_test)\n",
    "Rsqu_max_order = Rsqu_test.index(Rsqu_max) + 1\n",
    "\n",
    "Rsqu_max_str = f'Max R^2 = {Rsqu_max:.5f}'\n",
    "Rsqu_max_order_str = f'@ {Rsqu_max_order} order'\n",
    "\n",
    "plt.plot(order, Rsqu_test)\n",
    "plt.xlabel('order')\n",
    "plt.ylabel('R^2')\n",
    "plt.title('R^2 Using Test Data')\n",
    "plt.text(Rsqu_max_order+0.1, Rsqu_max, Rsqu_max_str)\n",
    "plt.text(Rsqu_max_order+0.15, Rsqu_max-0.03, Rsqu_max_order_str)\n",
    "\n",
    "plt.savefig('../figs/05_Model_Evaluation/02_select/r_squared_order_horsepower.png')"
   ]
  },
  {
   "cell_type": "markdown",
   "metadata": {
    "slideshow": {
     "slide_type": "slide"
    }
   },
   "source": [
    "### R^2 gradually increases until an order three polynomial is used. Then the R^2 dramatically decreases at four."
   ]
  },
  {
   "cell_type": "markdown",
   "metadata": {
    "slideshow": {
     "slide_type": "slide"
    }
   },
   "source": [
    "### Experiment with different polynomial orders"
   ]
  },
  {
   "cell_type": "code",
   "execution_count": null,
   "metadata": {
    "slideshow": {
     "slide_type": "slide"
    }
   },
   "outputs": [],
   "source": [
    "# The function f is used to experiment with different polynomial orders\n",
    "def f(order, test_data):\n",
    "    x_train, x_test, y_train, y_test = train_test_split(x_data, y_data, test_size=test_data, random_state=0)\n",
    "    pr = PolynomialFeatures(degree=order)\n",
    "    x_train_pr = pr.fit_transform(x_train[['horsepower']])\n",
    "    x_test_pr = pr.fit_transform(x_test[['horsepower']])\n",
    "    poly = LinearRegression()\n",
    "    poly.fit(x_train_pr,y_train)\n",
    "    PollyPlot(x_train[['horsepower']], x_test[['horsepower']], y_train,y_test, poly, pr)"
   ]
  },
  {
   "cell_type": "code",
   "execution_count": null,
   "metadata": {
    "slideshow": {
     "slide_type": "slide"
    }
   },
   "outputs": [],
   "source": [
    "# Experiment with different polynomial orders and different amounts of data.\n",
    "interact(f, order=(0, 6, 1), test_data=(0.05, 0.95, 0.05));"
   ]
  },
  {
   "cell_type": "markdown",
   "metadata": {
    "slideshow": {
     "slide_type": "slide"
    }
   },
   "source": [
    "### Create a \"PolynomialFeatures\" object \"pr1\" of degree two"
   ]
  },
  {
   "cell_type": "code",
   "execution_count": null,
   "metadata": {
    "slideshow": {
     "slide_type": "slide"
    }
   },
   "outputs": [],
   "source": [
    "pr1 = PolynomialFeatures(degree=2)\n",
    "pr1"
   ]
  },
  {
   "cell_type": "markdown",
   "metadata": {
    "slideshow": {
     "slide_type": "slide"
    }
   },
   "source": [
    "### Transform the training and testing samples for the features 'horsepower', 'curb-weight', 'engine-size' and 'highway-mpg'."
   ]
  },
  {
   "cell_type": "code",
   "execution_count": null,
   "metadata": {
    "slideshow": {
     "slide_type": "slide"
    }
   },
   "outputs": [],
   "source": [
    "x_train_pr1 = pr1.fit_transform(x_train[['horsepower', 'curb-weight', 'engine-size' , 'highway-mpg']])\n",
    "x_test_pr1 = pr1.fit_transform(x_test[['horsepower', 'curb-weight', 'engine-size' , 'highway-mpg']])"
   ]
  },
  {
   "cell_type": "code",
   "execution_count": null,
   "metadata": {
    "slideshow": {
     "slide_type": "slide"
    }
   },
   "outputs": [],
   "source": [
    "x_train_pr1.shape[1]"
   ]
  },
  {
   "cell_type": "markdown",
   "metadata": {
    "slideshow": {
     "slide_type": "slide"
    }
   },
   "source": [
    "### Create a linear regression model \"poly1\" and train the object "
   ]
  },
  {
   "cell_type": "code",
   "execution_count": null,
   "metadata": {
    "slideshow": {
     "slide_type": "slide"
    }
   },
   "outputs": [],
   "source": [
    "poly1 = LinearRegression()\n",
    "poly1.fit(x_train_pr1, y_train)"
   ]
  },
  {
   "cell_type": "markdown",
   "metadata": {
    "slideshow": {
     "slide_type": "slide"
    }
   },
   "source": [
    "### Use the method \"predict\" to predict an output on the polynomial features"
   ]
  },
  {
   "cell_type": "code",
   "execution_count": null,
   "metadata": {
    "slideshow": {
     "slide_type": "slide"
    }
   },
   "outputs": [],
   "source": [
    "yhat_test1=poly1.predict(x_train_pr1)\n",
    "Title='Distribution Plot of Predicted Value Using Test Data vs Data Distribution of Test Data with 4 features '\n",
    "DistributionPlot(y_test, yhat_test1, \"Actual Values (Test)\", \"Predicted Values (Test)\", Title)"
   ]
  },
  {
   "cell_type": "markdown",
   "metadata": {
    "slideshow": {
     "slide_type": "slide"
    }
   },
   "source": [
    "### Use the distribution plot to determine the two regions were the predicted prices are less accurate than the actual prices."
   ]
  },
  {
   "cell_type": "markdown",
   "metadata": {
    "slideshow": {
     "slide_type": "slide"
    }
   },
   "source": [
    ">The predicted value is lower than actual value for cars where the price around 10,000\n",
    "\n",
    "> the predicted price is larger than the price cost from 30,000 to 40,000 "
   ]
  },
  {
   "cell_type": "markdown",
   "metadata": {
    "slideshow": {
     "slide_type": "slide"
    }
   },
   "source": [
    "# Ridge regression"
   ]
  },
  {
   "cell_type": "markdown",
   "metadata": {},
   "source": [
    "- Ridge regression controls the large magnitude of the polynomial coefficients by introducing the parameter alpha.\n",
    "- Alpha\n",
    " - a parameter to select before fitting or training the model\n",
    "- Ridge regression is used to prevent over-fitting.\n",
    "- Consider how the estimated function is approximating the true function.\n",
    "- real data has outliers"
   ]
  },
  {
   "cell_type": "markdown",
   "metadata": {
    "slideshow": {
     "slide_type": "slide"
    }
   },
   "source": [
    "<p align=\"center\"> \n",
    "<img src=\"../images/05_Model_Evaluation/03_ridge/01_true_function_samples_order_4.png\", width=800, height=600>|\n",
    "</p>"
   ]
  },
  {
   "cell_type": "markdown",
   "metadata": {
    "slideshow": {
     "slide_type": "slide"
    }
   },
   "source": [
    "<p align=\"center\"> \n",
    "<img src=\"../images/05_Model_Evaluation/03_ridge/02_true_function_samples_model_order_4.png\", width=800, height=600>|\n",
    "</p>"
   ]
  },
  {
   "cell_type": "markdown",
   "metadata": {
    "slideshow": {
     "slide_type": "slide"
    }
   },
   "source": [
    "<p align=\"center\"> \n",
    "<img src=\"../images/05_Model_Evaluation/03_ridge/03_true_function_samples_model_order_10.png\", width=800, height=600>|\n",
    "</p>"
   ]
  },
  {
   "cell_type": "markdown",
   "metadata": {
    "slideshow": {
     "slide_type": "slide"
    }
   },
   "source": [
    "<p align=\"center\"> \n",
    "<img src=\"../images/05_Model_Evaluation/03_ridge/04_alpha.png\", width=800, height=600>|\n",
    "</p>"
   ]
  },
  {
   "cell_type": "markdown",
   "metadata": {
    "slideshow": {
     "slide_type": "slide"
    }
   },
   "source": [
    "<p align=\"center\"> \n",
    "<img src=\"../images/05_Model_Evaluation/03_ridge/05_alpha_coefs.png\", width=800, height=600>|\n",
    "</p>"
   ]
  },
  {
   "cell_type": "markdown",
   "metadata": {
    "slideshow": {
     "slide_type": "slide"
    }
   },
   "source": [
    "<p align=\"center\"> \n",
    "<img src=\"../images/05_Model_Evaluation/03_ridge/06_alpha_0.png\", width=800, height=600>|\n",
    "</p>"
   ]
  },
  {
   "cell_type": "markdown",
   "metadata": {
    "slideshow": {
     "slide_type": "slide"
    }
   },
   "source": [
    "<p align=\"center\"> \n",
    "<img src=\"../images/05_Model_Evaluation/03_ridge/07_alpha_001.png\", width=800, height=600>|\n",
    "</p>"
   ]
  },
  {
   "cell_type": "markdown",
   "metadata": {
    "slideshow": {
     "slide_type": "slide"
    }
   },
   "source": [
    "<p align=\"center\"> \n",
    "<img src=\"../images/05_Model_Evaluation/03_ridge/08_alpha_01.png\", width=800, height=600>|\n",
    "</p>"
   ]
  },
  {
   "cell_type": "markdown",
   "metadata": {
    "slideshow": {
     "slide_type": "slide"
    }
   },
   "source": [
    "<p align=\"center\"> \n",
    "<img src=\"../images/05_Model_Evaluation/03_ridge/09_alpha_1.png\", width=800, height=600>|\n",
    "</p>"
   ]
  },
  {
   "cell_type": "markdown",
   "metadata": {
    "slideshow": {
     "slide_type": "slide"
    }
   },
   "source": [
    "<p align=\"center\"> \n",
    "<img src=\"../images/05_Model_Evaluation/03_ridge/10_alpha_10.png\", width=800, height=600>|\n",
    "</p>"
   ]
  },
  {
   "cell_type": "markdown",
   "metadata": {
    "slideshow": {
     "slide_type": "slide"
    }
   },
   "source": [
    "<p align=\"center\"> \n",
    "<img src=\"../images/05_Model_Evaluation/03_ridge/11_predict_ridge.png\", width=800, height=600>|\n",
    "</p>"
   ]
  },
  {
   "cell_type": "code",
   "execution_count": null,
   "metadata": {
    "slideshow": {
     "slide_type": "slide"
    }
   },
   "outputs": [],
   "source": [
    "# Perform a degree two polynomial transformation on our data.\n",
    "pr=PolynomialFeatures(degree=2)\n",
    "x_train_pr=pr.fit_transform(x_train[['horsepower', 'curb-weight', 'engine-size', 'highway-mpg','normalized-losses','symboling']])\n",
    "x_test_pr=pr.fit_transform(x_test[['horsepower', 'curb-weight', 'engine-size', 'highway-mpg','normalized-losses','symboling']])"
   ]
  },
  {
   "cell_type": "code",
   "execution_count": null,
   "metadata": {
    "slideshow": {
     "slide_type": "slide"
    }
   },
   "outputs": [],
   "source": [
    "# Import Ridge from the module linear model.\n",
    "from sklearn.linear_model import Ridge"
   ]
  },
  {
   "cell_type": "code",
   "execution_count": null,
   "metadata": {
    "slideshow": {
     "slide_type": "slide"
    }
   },
   "outputs": [],
   "source": [
    "# Create a Ridge regression object\n",
    "# setting the regularization parameter to 0.1\n",
    "RigeModel=Ridge(alpha=0.1)"
   ]
  },
  {
   "cell_type": "code",
   "execution_count": null,
   "metadata": {
    "slideshow": {
     "slide_type": "slide"
    }
   },
   "outputs": [],
   "source": [
    "# Fit the model using the method fit.\n",
    "RigeModel.fit(x_train_pr, y_train)"
   ]
  },
  {
   "cell_type": "code",
   "execution_count": null,
   "metadata": {
    "slideshow": {
     "slide_type": "slide"
    }
   },
   "outputs": [],
   "source": [
    "# Obtain a prediction:\n",
    "yhat = RigeModel.predict(x_test_pr)"
   ]
  },
  {
   "cell_type": "code",
   "execution_count": null,
   "metadata": {
    "slideshow": {
     "slide_type": "slide"
    }
   },
   "outputs": [],
   "source": [
    "# Compare the first five predicted samples to the test set\n",
    "print(f'predicted: {yhat[0:4]}')\n",
    "print(f'test set : { y_test[0:4].values}')"
   ]
  },
  {
   "cell_type": "markdown",
   "metadata": {},
   "source": [
    "## How to Select the Value of alpha"
   ]
  },
  {
   "cell_type": "markdown",
   "metadata": {
    "slideshow": {
     "slide_type": "slide"
    }
   },
   "source": [
    "<p align=\"center\"> \n",
    "<img src=\"../images/05_Model_Evaluation/03_ridge/12_select_alpha_1.png\", width=800, height=600>|\n",
    "</p>"
   ]
  },
  {
   "cell_type": "markdown",
   "metadata": {
    "slideshow": {
     "slide_type": "slide"
    }
   },
   "source": [
    "<p align=\"center\"> \n",
    "<img src=\"../images/05_Model_Evaluation/03_ridge/13_select_alpha_2.png\", width=800, height=600>|\n",
    "</p>"
   ]
  },
  {
   "cell_type": "markdown",
   "metadata": {
    "slideshow": {
     "slide_type": "slide"
    }
   },
   "source": [
    "<p align=\"center\"> \n",
    "<img src=\"../images/05_Model_Evaluation/03_ridge/14_select_alpha_3_calc_r_squared.png\", width=800, height=600>|\n",
    "</p>"
   ]
  },
  {
   "cell_type": "markdown",
   "metadata": {
    "slideshow": {
     "slide_type": "slide"
    }
   },
   "source": [
    "<p align=\"center\"> \n",
    "<img src=\"../images/05_Model_Evaluation/03_ridge/15_select_alpha_4_max_r_squared.png\", width=800, height=600>|\n",
    "</p>"
   ]
  },
  {
   "cell_type": "markdown",
   "metadata": {
    "slideshow": {
     "slide_type": "slide"
    }
   },
   "source": [
    "<p align=\"center\"> \n",
    "<img src=\"../images/05_Model_Evaluation/03_ridge/16_train_val_alpha_r_squared.png\", width=800, height=600>|\n",
    "</p>"
   ]
  },
  {
   "cell_type": "code",
   "execution_count": null,
   "metadata": {
    "slideshow": {
     "slide_type": "slide"
    }
   },
   "outputs": [],
   "source": [
    "# Select the value of alpha that minimizes the test error\n",
    "Rsqu_test = []\n",
    "Rsqu_train = []\n",
    "dummy1 = []\n",
    "alphas = 10 * np.array(range(0,1000))\n",
    "for a in alphas:\n",
    "    RigeModel = Ridge(alpha=a) \n",
    "    RigeModel.fit(x_train_pr, y_train)\n",
    "    Rsqu_test.append(RigeModel.score(x_test_pr, y_test))\n",
    "    Rsqu_train.append(RigeModel.score(x_train_pr, y_train))"
   ]
  },
  {
   "cell_type": "code",
   "execution_count": null,
   "metadata": {
    "slideshow": {
     "slide_type": "slide"
    }
   },
   "outputs": [],
   "source": [
    "# Plot out the value of R^2 for different Alphas\n",
    "width = 12\n",
    "height = 10\n",
    "plt.figure(figsize=(width, height))\n",
    "\n",
    "plt.plot(alphas,Rsqu_test, label='validation data  ')\n",
    "plt.plot(alphas,Rsqu_train, 'r', label='training Data ')\n",
    "plt.xlabel('alpha')\n",
    "plt.ylabel('R^2')\n",
    "plt.legend()\n",
    "\n",
    "plt.savefig('../figs/05_Model_Evaluation/03_ridge/r_squared_alpha.png')"
   ]
  },
  {
   "cell_type": "markdown",
   "metadata": {
    "slideshow": {
     "slide_type": "slide"
    }
   },
   "source": [
    "- The blue line represents the R^2 of the test data\n",
    "- The red line represents the R^2 of the training data. \n",
    "- The x-axis represents the different values of Alfa\n",
    "\n",
    ">As Alpha increases the R^2 decreases; therefore as Alfa increases the model performs worse on the test data. \n",
    "\n",
    ">The blue line represents the R^2 on the validation data, as the value for Alfa increases the R^2 decreases."
   ]
  },
  {
   "cell_type": "markdown",
   "metadata": {
    "slideshow": {
     "slide_type": "slide"
    }
   },
   "source": [
    "### Perform Ridge regression \n",
    "- Calculate the R^2 using the polynomial features\n",
    "- Use the training data to train the model and test data to test the model. \n",
    "- The parameter alpha should be set to 10."
   ]
  },
  {
   "cell_type": "code",
   "execution_count": null,
   "metadata": {
    "slideshow": {
     "slide_type": "slide"
    }
   },
   "outputs": [],
   "source": [
    "RigeModel = Ridge(alpha=10) \n",
    "RigeModel.fit(x_train_pr, y_train)\n",
    "RigeModel.score(x_test_pr, y_test)"
   ]
  },
  {
   "cell_type": "markdown",
   "metadata": {
    "slideshow": {
     "slide_type": "slide"
    }
   },
   "source": [
    "# Grid Search"
   ]
  },
  {
   "cell_type": "markdown",
   "metadata": {
    "slideshow": {
     "slide_type": "-"
    }
   },
   "source": [
    "### The term alpha is a hyperparameter\n",
    ">sklearn has the class GridSearchCV to make the process of finding the best hyperparameter simpler."
   ]
  },
  {
   "cell_type": "markdown",
   "metadata": {
    "slideshow": {
     "slide_type": "slide"
    }
   },
   "source": [
    "<p align=\"center\"> \n",
    "<img src=\"../images/05_Model_Evaluation/04_grid/01_hyperparameter_1.png\", width=800, height=600>|\n",
    "</p>"
   ]
  },
  {
   "cell_type": "markdown",
   "metadata": {
    "slideshow": {
     "slide_type": "slide"
    }
   },
   "source": [
    "<p align=\"center\"> \n",
    "<img src=\"../images/05_Model_Evaluation/04_grid/02_hyperparameter_2.png\", width=800, height=600>|\n",
    "</p>"
   ]
  },
  {
   "cell_type": "markdown",
   "metadata": {
    "slideshow": {
     "slide_type": "slide"
    }
   },
   "source": [
    "<p align=\"center\"> \n",
    "<img src=\"../images/05_Model_Evaluation/04_grid/03_hyperparameter_3.png\", width=800, height=600>|\n",
    "</p>"
   ]
  },
  {
   "cell_type": "markdown",
   "metadata": {
    "slideshow": {
     "slide_type": "slide"
    }
   },
   "source": [
    "<p align=\"center\"> \n",
    "<img src=\"../images/05_Model_Evaluation/04_grid/04_train_valid_test_1.png\", width=800, height=600>|\n",
    "</p>"
   ]
  },
  {
   "cell_type": "markdown",
   "metadata": {
    "slideshow": {
     "slide_type": "slide"
    }
   },
   "source": [
    "<p align=\"center\"> \n",
    "<img src=\"../images/05_Model_Evaluation/04_grid/05_train_valid_test_2.png\", width=800, height=600>|\n",
    "</p>"
   ]
  },
  {
   "cell_type": "markdown",
   "metadata": {
    "slideshow": {
     "slide_type": "slide"
    }
   },
   "source": [
    "<p align=\"center\"> \n",
    "<img src=\"../images/05_Model_Evaluation/04_grid/06_train_valid_test_3.png\", width=800, height=600>|\n",
    "</p>"
   ]
  },
  {
   "cell_type": "markdown",
   "metadata": {
    "slideshow": {
     "slide_type": "slide"
    }
   },
   "source": [
    "<p align=\"center\"> \n",
    "<img src=\"../images/05_Model_Evaluation/04_grid/07_train_valid_test_4.png\", width=800, height=600>|\n",
    "</p>"
   ]
  },
  {
   "cell_type": "markdown",
   "metadata": {
    "slideshow": {
     "slide_type": "slide"
    }
   },
   "source": [
    "<p align=\"center\"> \n",
    "<img src=\"../images/05_Model_Evaluation/04_grid/08_alpha_normalize.png\", width=800, height=600>|\n",
    "</p>"
   ]
  },
  {
   "cell_type": "markdown",
   "metadata": {
    "slideshow": {
     "slide_type": "slide"
    }
   },
   "source": [
    "<p align=\"center\"> \n",
    "<img src=\"../images/05_Model_Evaluation/04_grid/09_alpha_values.png\", width=800, height=600>|\n",
    "</p>"
   ]
  },
  {
   "cell_type": "markdown",
   "metadata": {
    "slideshow": {
     "slide_type": "slide"
    }
   },
   "source": [
    "<p align=\"center\"> \n",
    "<img src=\"../images/05_Model_Evaluation/04_grid/10_gridsearch_1.png\", width=800, height=600>|\n",
    "</p>"
   ]
  },
  {
   "cell_type": "markdown",
   "metadata": {
    "slideshow": {
     "slide_type": "slide"
    }
   },
   "source": [
    "<p align=\"center\"> \n",
    "<img src=\"../images/05_Model_Evaluation/04_grid/11_gridsearch_2.png\", width=800, height=600>|\n",
    "</p>"
   ]
  },
  {
   "cell_type": "markdown",
   "metadata": {
    "slideshow": {
     "slide_type": "slide"
    }
   },
   "source": [
    "<p align=\"center\"> \n",
    "<img src=\"../images/05_Model_Evaluation/04_grid/12_gridsearch_3.png\", width=800, height=600>|\n",
    "</p>"
   ]
  },
  {
   "cell_type": "code",
   "execution_count": 1,
   "metadata": {
    "slideshow": {
     "slide_type": "slide"
    }
   },
   "outputs": [],
   "source": [
    "# import GridSearchCV from the module model_selection.\n",
    "from sklearn.model_selection import GridSearchCV"
   ]
  },
  {
   "cell_type": "code",
   "execution_count": null,
   "metadata": {
    "slideshow": {
     "slide_type": "slide"
    }
   },
   "outputs": [],
   "source": [
    "# Create a dictionary of parameter values\n",
    "parameters1= [{'alpha': [0.001,0.1,1, 10, 100, 1000, 10000, 100000, 100000]}]\n",
    "parameters1"
   ]
  },
  {
   "cell_type": "code",
   "execution_count": null,
   "metadata": {
    "slideshow": {
     "slide_type": "slide"
    }
   },
   "outputs": [],
   "source": [
    "# Create a ridge egression object:\n",
    "RR=Ridge()\n",
    "RR"
   ]
  },
  {
   "cell_type": "code",
   "execution_count": null,
   "metadata": {
    "slideshow": {
     "slide_type": "slide"
    }
   },
   "outputs": [],
   "source": [
    "# Create a ridge grid search object\n",
    "Grid1 = GridSearchCV(RR, parameters1,cv=4)"
   ]
  },
  {
   "cell_type": "code",
   "execution_count": null,
   "metadata": {
    "slideshow": {
     "slide_type": "slide"
    }
   },
   "outputs": [],
   "source": [
    "# Fit the model\n",
    "Grid1.fit(x_data[['horsepower', 'curb-weight', 'engine-size', 'highway-mpg']], y_data)"
   ]
  },
  {
   "cell_type": "code",
   "execution_count": null,
   "metadata": {
    "slideshow": {
     "slide_type": "slide"
    }
   },
   "outputs": [],
   "source": [
    "# The object finds the best parameter values on the validation data.\n",
    "# Obtain the estimator with the best parameters and \n",
    "# assign it to the variable BestRR \n",
    "\n",
    "BestRR=Grid1.best_estimator_\n",
    "BestRR"
   ]
  },
  {
   "cell_type": "code",
   "execution_count": null,
   "metadata": {
    "slideshow": {
     "slide_type": "slide"
    }
   },
   "outputs": [],
   "source": [
    "# Test our model on the test data\n",
    "BestRR.score(x_test[['horsepower', 'curb-weight', 'engine-size', 'highway-mpg']], y_test)"
   ]
  },
  {
   "cell_type": "markdown",
   "metadata": {
    "slideshow": {
     "slide_type": "slide"
    }
   },
   "source": [
    "### Perform a grid search for the alpha and the normalization parameters\n",
    "- find the best values of the parameters"
   ]
  },
  {
   "cell_type": "markdown",
   "metadata": {
    "slideshow": {
     "slide_type": "slide"
    }
   },
   "source": [
    "<p align=\"center\"> \n",
    "<img src=\"../images/05_Model_Evaluation/04_grid/13_alpha_normalize_values.png\", width=800, height=600>|\n",
    "</p>"
   ]
  },
  {
   "cell_type": "markdown",
   "metadata": {
    "slideshow": {
     "slide_type": "slide"
    }
   },
   "source": [
    "<p align=\"center\"> \n",
    "<img src=\"../images/05_Model_Evaluation/04_grid/14_alpha_normalize_gridsearch_1.png\", width=800, height=600>|\n",
    "</p>"
   ]
  },
  {
   "cell_type": "markdown",
   "metadata": {
    "slideshow": {
     "slide_type": "slide"
    }
   },
   "source": [
    "<p align=\"center\"> \n",
    "<img src=\"../images/05_Model_Evaluation/04_grid/15_alpha_normalize_gridsearch_2.png\", width=800, height=600>|\n",
    "</p>"
   ]
  },
  {
   "cell_type": "markdown",
   "metadata": {
    "slideshow": {
     "slide_type": "slide"
    }
   },
   "source": [
    "<p align=\"center\"> \n",
    "<img src=\"../images/05_Model_Evaluation/04_grid/16_alpha_normalize_gridsearch_3.png\", width=800, height=600>|\n",
    "</p>"
   ]
  },
  {
   "cell_type": "markdown",
   "metadata": {
    "slideshow": {
     "slide_type": "slide"
    }
   },
   "source": [
    "<p align=\"center\"> \n",
    "<img src=\"../images/05_Model_Evaluation/04_grid/17_alpha_normalize_gridsearch_4.png\", width=800, height=600>|\n",
    "</p>"
   ]
  },
  {
   "cell_type": "code",
   "execution_count": null,
   "metadata": {
    "slideshow": {
     "slide_type": "slide"
    }
   },
   "outputs": [],
   "source": [
    "parameters2= [{'alpha': [0.001,0.1,1, 10, 100, 1000,10000,100000,100000],'normalize':[True,False]} ]\n",
    "Grid2 = GridSearchCV(Ridge(), parameters2,cv=4)\n",
    "Grid2.fit(x_data[['horsepower', 'curb-weight', 'engine-size', 'highway-mpg']],y_data)\n",
    "Grid2.best_estimator_"
   ]
  }
 ],
 "metadata": {
  "celltoolbar": "Slideshow",
  "kernelspec": {
   "display_name": "Python 3",
   "language": "python",
   "name": "python3"
  },
  "language_info": {
   "codemirror_mode": {
    "name": "ipython",
    "version": 3
   },
   "file_extension": ".py",
   "mimetype": "text/x-python",
   "name": "python",
   "nbconvert_exporter": "python",
   "pygments_lexer": "ipython3",
   "version": "3.7.3"
  }
 },
 "nbformat": 4,
 "nbformat_minor": 4
}
